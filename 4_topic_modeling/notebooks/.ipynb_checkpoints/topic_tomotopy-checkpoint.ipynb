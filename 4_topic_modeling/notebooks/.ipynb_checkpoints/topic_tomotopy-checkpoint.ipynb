{
 "cells": [
  {
   "cell_type": "markdown",
   "id": "c8306240-dfdd-4184-ac9d-08a590a133f8",
   "metadata": {},
   "source": [
    "! /usr/local/anaconda3/envs/numpy_env/bin/python -m pip install little_mallet_wrapper\n"
   ]
  },
  {
   "cell_type": "code",
   "execution_count": 30,
   "id": "23995c22-7ec5-4bb0-8e85-1827549562da",
   "metadata": {},
   "outputs": [],
   "source": [
    "import tomotopy as tp\n",
    "import little_mallet_wrapper\n",
    "import seaborn\n",
    "import glob\n",
    "from pathlib import Path\n",
    "import pandas as pd"
   ]
  },
  {
   "cell_type": "code",
   "execution_count": 32,
   "id": "737ad4b9-2c21-4e2e-a119-38dae89b978b",
   "metadata": {},
   "outputs": [],
   "source": [
    "directory = \"../../1_Datacollection/Corpus_deepseek\""
   ]
  },
  {
   "cell_type": "code",
   "execution_count": null,
   "id": "a2847fa5-8105-4de4-ac99-2a3810550854",
   "metadata": {},
   "outputs": [],
   "source": [
    "directory = \"../2_Preprocessing/Corpus_deepseek_cleaned/\""
   ]
  },
  {
   "cell_type": "code",
   "execution_count": 34,
   "id": "c54c9f20-bc30-4176-bbf9-d3080b53484e",
   "metadata": {},
   "outputs": [],
   "source": [
    "files = glob.glob(f\"{directory}/*.txt\")"
   ]
  },
  {
   "cell_type": "code",
   "execution_count": 36,
   "id": "fc7b5228-3503-4764-95e0-3ead786d50d8",
   "metadata": {},
   "outputs": [
    {
     "name": "stdout",
     "output_type": "stream",
     "text": [
      "['What_is_DeepSeek,_the_Chinese_AI_startup_that_shoo', 'Chinese_AI_disrupter_DeepSeek_claims_top_spot_in_U', 'Which_countries_have_banned_DeepSeek_and_why?', 'Global_AI_rivalry_is_a_dangerous_game', 'DeepSeek_just_blew_up_the_AI_industry’s_narrative_', 'OpenAI_Says_DeepSeek_May_Have_Improperly_Harvested', 'They_Invested_Billions._Then_the_A.I._Script_Got_F', 'AI_giants_Baidu,_OpenAI_offer_their_chatbots_for_f', 'DeepSeek_banned_from_Australian_government_devices', 'DeepSeek_AI_shakes_American_swagger_and_upends_ass']\n"
     ]
    }
   ],
   "source": [
    "training_data = []\n",
    "original_texts = []\n",
    "titles = []\n",
    "\n",
    "for file in files:\n",
    "    text = open(file, encoding='utf-8').read()\n",
    "    processed_text = little_mallet_wrapper.process_string(text, numbers='remove')\n",
    "    training_data.append(processed_text)\n",
    "    original_texts.append(text)\n",
    "    titles.append(Path(file).stem)\n",
    "print(titles[:10])\n"
   ]
  },
  {
   "cell_type": "code",
   "execution_count": 38,
   "id": "4edba8f0-987f-4e4b-80ba-76b9f2f354d4",
   "metadata": {},
   "outputs": [
    {
     "data": {
      "text/plain": [
       "(115, 115, 115)"
      ]
     },
     "execution_count": 38,
     "metadata": {},
     "output_type": "execute_result"
    }
   ],
   "source": [
    "len(training_data), len(original_texts), len(titles)"
   ]
  },
  {
   "cell_type": "markdown",
   "id": "523fdb46-46ba-46a7-9fa6-f7ccc6c49e71",
   "metadata": {},
   "source": [
    "Train Topic Modelling"
   ]
  },
  {
   "cell_type": "code",
   "execution_count": 41,
   "id": "f9087e3f-2d27-4427-a861-b0f9092b27d9",
   "metadata": {},
   "outputs": [
    {
     "name": "stdout",
     "output_type": "stream",
     "text": [
      "Topic Model Training...\n",
      "\n",
      "\n",
      "Iteration: 0\tLog-likelihood: -8.797906411537863\n",
      "Iteration: 10\tLog-likelihood: -8.599937369554224\n",
      "Iteration: 20\tLog-likelihood: -8.514364013187794\n",
      "Iteration: 30\tLog-likelihood: -8.476143741554521\n",
      "Iteration: 40\tLog-likelihood: -8.463000313288576\n",
      "Iteration: 50\tLog-likelihood: -8.436733465244442\n",
      "Iteration: 60\tLog-likelihood: -8.424383346171961\n",
      "Iteration: 70\tLog-likelihood: -8.415029846219516\n",
      "Iteration: 80\tLog-likelihood: -8.398511535629961\n",
      "Iteration: 90\tLog-likelihood: -8.390295986426668\n",
      "\n",
      "Topic Model Results:\n",
      "\n",
      "\n",
      "✨Topic 0✨\n",
      "\n",
      "model tech company nvidia companies cost market industry openai monday\n",
      "\n",
      "✨Topic 1✨\n",
      "\n",
      "deepseek said technology models new could openai may trump would\n",
      "\n",
      "✨Topic 2✨\n",
      "\n",
      "china deepseek chinese one questions like well country many beijing\n",
      "\n",
      "✨Topic 3✨\n",
      "\n",
      "deepseek said app government data chatbot information use chinese security\n",
      "\n",
      "✨Topic 4✨\n",
      "\n",
      "deepseek chinese also intelligence chatgpt world year says china people\n",
      "\n"
     ]
    }
   ],
   "source": [
    "# Number of topics to return\n",
    "num_topics = 5\n",
    "# Numer of topic words to print out\n",
    "num_topic_words = 10\n",
    "# Intialize the model\n",
    "model = tp.LDAModel(k=num_topics)\n",
    "\n",
    "# Add each document to the model, after splitting it up into words\n",
    "for text in training_data:\n",
    "    model.add_doc(text.strip().split())\n",
    "    \n",
    "print(\"Topic Model Training...\\n\\n\")\n",
    "# Iterate over the data 10 times\n",
    "iterations = 10\n",
    "for i in range(0, 100, iterations):\n",
    "    model.train(iterations)\n",
    "    print(f'Iteration: {i}\\tLog-likelihood: {model.ll_per_word}')\n",
    "\n",
    "print(\"\\nTopic Model Results:\\n\\n\")\n",
    "# Print out top 10 words for each topic\n",
    "topics = []\n",
    "topic_individual_words = []\n",
    "for topic_number in range(0, num_topics):\n",
    "    topic_words = ' '.join(word for word, prob in model.get_topic_words(topic_id=topic_number, top_n=num_topic_words))\n",
    "    topics.append(topic_words)\n",
    "    topic_individual_words.append(topic_words.split())\n",
    "    print(f\"✨Topic {topic_number}✨\\n\\n{topic_words}\\n\")"
   ]
  },
  {
   "cell_type": "code",
   "execution_count": 43,
   "id": "87a2f1b1-b2d4-40d7-a196-1d2b257f6d02",
   "metadata": {},
   "outputs": [],
   "source": [
    "# Load topic distributions\n",
    "topic_distributions = [list(doc.get_topic_dist()) for doc in model.docs]"
   ]
  },
  {
   "cell_type": "markdown",
   "id": "b0c14090-9191-47b6-b583-eed90ad0266b",
   "metadata": {},
   "source": [
    "# Make functions for displaying top documents. The get_top_docs() function is taken from Maria Antoniak’s Little Mallet Wrapper"
   ]
  },
  {
   "cell_type": "code",
   "execution_count": 46,
   "id": "8b727be7-7527-4131-8bac-03848397742e",
   "metadata": {},
   "outputs": [],
   "source": [
    "from IPython.display import Markdown, display\n",
    "import re\n",
    "\n",
    "def make_md(string):\n",
    "    display(Markdown(str(string)))\n",
    "\n",
    "def get_top_docs(docs, topic_distributions, topic_index, n=5):\n",
    "    \n",
    "    sorted_data = sorted([(_distribution[topic_index], _document) \n",
    "                          for _distribution, _document \n",
    "                          in zip(topic_distributions, docs)], reverse=True)\n",
    "    \n",
    "    topic_words = topics[topic_index]\n",
    "    \n",
    "    make_md(f\"### ✨Topic {topic_index}✨\\n\\n{topic_words}\\n\\n\")\n",
    "    print(\"---\")\n",
    "    \n",
    "    for probability, doc in sorted_data[:n]:\n",
    "        # Make topic words bolded\n",
    "        for word in topic_words.split():\n",
    "            if word in doc.lower():\n",
    "                doc = re.sub(f\"\\\\b{word}\\\\b\", f\"**{word}**\", doc, re.IGNORECASE)\n",
    "        \n",
    "        make_md(f'✨  \\n**Topic Probability**: {probability}  \\n**Document**: {doc}\\n\\n')\n",
    "    \n",
    "    return"
   ]
  },
  {
   "cell_type": "code",
   "execution_count": 48,
   "id": "10079dca-2e19-44c7-ae4c-9832778422a1",
   "metadata": {},
   "outputs": [
    {
     "data": {
      "text/markdown": [
       "### ✨Topic 0✨\n",
       "\n",
       "model tech company nvidia companies cost market industry openai monday\n",
       "\n"
      ],
      "text/plain": [
       "<IPython.core.display.Markdown object>"
      ]
     },
     "metadata": {},
     "output_type": "display_data"
    },
    {
     "name": "stdout",
     "output_type": "stream",
     "text": [
      "---\n"
     ]
    },
    {
     "data": {
      "text/markdown": [
       "✨  \n",
       "**Topic Probability**: 0.5878545641899109  \n",
       "**Document**: US_tech_stocks_plunge_on_China_AI’s_unexpectedly_s\n",
       "\n"
      ],
      "text/plain": [
       "<IPython.core.display.Markdown object>"
      ]
     },
     "metadata": {},
     "output_type": "display_data"
    },
    {
     "data": {
      "text/markdown": [
       "✨  \n",
       "**Topic Probability**: 0.5547818541526794  \n",
       "**Document**: Hong_Kong_stocks_gain_on_valuation_focus_as_DeepSe\n",
       "\n"
      ],
      "text/plain": [
       "<IPython.core.display.Markdown object>"
      ]
     },
     "metadata": {},
     "output_type": "display_data"
    },
    {
     "data": {
      "text/markdown": [
       "✨  \n",
       "**Topic Probability**: 0.48693302273750305  \n",
       "**Document**: A_shocking_Chinese_AI_advancement_called_DeepSeek_\n",
       "\n"
      ],
      "text/plain": [
       "<IPython.core.display.Markdown object>"
      ]
     },
     "metadata": {},
     "output_type": "display_data"
    },
    {
     "data": {
      "text/markdown": [
       "✨  \n",
       "**Topic Probability**: 0.4859997630119324  \n",
       "**Document**: China’s_DeepSeek_causes_rout_among_AI-linked_stock\n",
       "\n"
      ],
      "text/plain": [
       "<IPython.core.display.Markdown object>"
      ]
     },
     "metadata": {},
     "output_type": "display_data"
    },
    {
     "data": {
      "text/markdown": [
       "✨  \n",
       "**Topic Probability**: 0.4820847809314728  \n",
       "**Document**: DeepSeek_breakthrough,_Nvidia_stock_rout_raise_con\n",
       "\n"
      ],
      "text/plain": [
       "<IPython.core.display.Markdown object>"
      ]
     },
     "metadata": {},
     "output_type": "display_data"
    },
    {
     "data": {
      "text/markdown": [
       "✨  \n",
       "**Topic Probability**: 0.4749235212802887  \n",
       "**Document**: My_Take_|_Chinese_start-up_DeepSeek_looks_set_to_r\n",
       "\n"
      ],
      "text/plain": [
       "<IPython.core.display.Markdown object>"
      ]
     },
     "metadata": {},
     "output_type": "display_data"
    }
   ],
   "source": [
    "# display topic titles\n",
    "get_top_docs(titles, topic_distributions, topic_index=0, n=6)"
   ]
  },
  {
   "cell_type": "code",
   "execution_count": 50,
   "id": "5cb2f876-230b-4235-b933-3450f2b72a8d",
   "metadata": {},
   "outputs": [
    {
     "data": {
      "text/markdown": [
       "### ✨Topic 1✨\n",
       "\n",
       "deepseek said technology models new could openai may trump would\n",
       "\n"
      ],
      "text/plain": [
       "<IPython.core.display.Markdown object>"
      ]
     },
     "metadata": {},
     "output_type": "display_data"
    },
    {
     "name": "stdout",
     "output_type": "stream",
     "text": [
      "---\n"
     ]
    },
    {
     "data": {
      "text/markdown": [
       "✨  \n",
       "**Topic Probability**: 0.5144602656364441  \n",
       "**Document**: What_does_DeepSeek_mean_for_AI's_environmental_imp\n",
       "\n"
      ],
      "text/plain": [
       "<IPython.core.display.Markdown object>"
      ]
     },
     "metadata": {},
     "output_type": "display_data"
    },
    {
     "data": {
      "text/markdown": [
       "✨  \n",
       "**Topic Probability**: 0.4930320680141449  \n",
       "**Document**: DeepSeek_chaos_suggests_‘America_First’_may_not_al\n",
       "\n"
      ],
      "text/plain": [
       "<IPython.core.display.Markdown object>"
      ]
     },
     "metadata": {},
     "output_type": "display_data"
    },
    {
     "data": {
      "text/markdown": [
       "✨  \n",
       "**Topic Probability**: 0.4784778654575348  \n",
       "**Document**: China_Challenges_Silicon_Valley_for_A.I._Dominance\n",
       "\n"
      ],
      "text/plain": [
       "<IPython.core.display.Markdown object>"
      ]
     },
     "metadata": {},
     "output_type": "display_data"
    },
    {
     "data": {
      "text/markdown": [
       "✨  \n",
       "**Topic Probability**: 0.46325722336769104  \n",
       "**Document**: OpenAI_Says_DeepSeek_May_Have_Improperly_Harvested\n",
       "\n"
      ],
      "text/plain": [
       "<IPython.core.display.Markdown object>"
      ]
     },
     "metadata": {},
     "output_type": "display_data"
    },
    {
     "data": {
      "text/markdown": [
       "✨  \n",
       "**Topic Probability**: 0.4010593295097351  \n",
       "**Document**: Why_DeepSeek_could_mark_a_turning_point_for_Silico\n",
       "\n"
      ],
      "text/plain": [
       "<IPython.core.display.Markdown object>"
      ]
     },
     "metadata": {},
     "output_type": "display_data"
    }
   ],
   "source": [
    "get_top_docs(titles, topic_distributions, topic_index=1, n=5)"
   ]
  },
  {
   "cell_type": "code",
   "execution_count": 52,
   "id": "5f46f894-1913-4afd-82fa-ac0e667bd7a6",
   "metadata": {},
   "outputs": [
    {
     "data": {
      "text/html": [
       "<div>\n",
       "<style scoped>\n",
       "    .dataframe tbody tr th:only-of-type {\n",
       "        vertical-align: middle;\n",
       "    }\n",
       "\n",
       "    .dataframe tbody tr th {\n",
       "        vertical-align: top;\n",
       "    }\n",
       "\n",
       "    .dataframe thead th {\n",
       "        text-align: right;\n",
       "    }\n",
       "</style>\n",
       "<table border=\"1\" class=\"dataframe\">\n",
       "  <thead>\n",
       "    <tr style=\"text-align: right;\">\n",
       "      <th></th>\n",
       "      <th>document</th>\n",
       "      <th>Topic 0 model tech company nvidia</th>\n",
       "      <th>Topic 1 deepseek said technology models</th>\n",
       "      <th>Topic 2 china deepseek chinese one</th>\n",
       "      <th>Topic 3 deepseek said app government</th>\n",
       "      <th>Topic 4 deepseek chinese also intelligence</th>\n",
       "    </tr>\n",
       "  </thead>\n",
       "  <tbody>\n",
       "    <tr>\n",
       "      <th>0</th>\n",
       "      <td>What_is_DeepSeek,_the_Chinese_AI_startup_that_...</td>\n",
       "      <td>0.405605</td>\n",
       "      <td>0.304326</td>\n",
       "      <td>0.074260</td>\n",
       "      <td>0.054319</td>\n",
       "      <td>0.161489</td>\n",
       "    </tr>\n",
       "    <tr>\n",
       "      <th>1</th>\n",
       "      <td>Chinese_AI_disrupter_DeepSeek_claims_top_spot_...</td>\n",
       "      <td>0.296705</td>\n",
       "      <td>0.134942</td>\n",
       "      <td>0.160103</td>\n",
       "      <td>0.123986</td>\n",
       "      <td>0.284264</td>\n",
       "    </tr>\n",
       "    <tr>\n",
       "      <th>2</th>\n",
       "      <td>Which_countries_have_banned_DeepSeek_and_why?</td>\n",
       "      <td>0.134757</td>\n",
       "      <td>0.100059</td>\n",
       "      <td>0.100058</td>\n",
       "      <td>0.516120</td>\n",
       "      <td>0.149005</td>\n",
       "    </tr>\n",
       "    <tr>\n",
       "      <th>3</th>\n",
       "      <td>Global_AI_rivalry_is_a_dangerous_game</td>\n",
       "      <td>0.151226</td>\n",
       "      <td>0.216509</td>\n",
       "      <td>0.186331</td>\n",
       "      <td>0.165336</td>\n",
       "      <td>0.280599</td>\n",
       "    </tr>\n",
       "    <tr>\n",
       "      <th>4</th>\n",
       "      <td>DeepSeek_just_blew_up_the_AI_industry’s_narrat...</td>\n",
       "      <td>0.387421</td>\n",
       "      <td>0.316246</td>\n",
       "      <td>0.158524</td>\n",
       "      <td>0.033529</td>\n",
       "      <td>0.104281</td>\n",
       "    </tr>\n",
       "    <tr>\n",
       "      <th>...</th>\n",
       "      <td>...</td>\n",
       "      <td>...</td>\n",
       "      <td>...</td>\n",
       "      <td>...</td>\n",
       "      <td>...</td>\n",
       "      <td>...</td>\n",
       "    </tr>\n",
       "    <tr>\n",
       "      <th>110</th>\n",
       "      <td>US_tech_stocks_partly_recover_after_Trump_says...</td>\n",
       "      <td>0.308317</td>\n",
       "      <td>0.272076</td>\n",
       "      <td>0.097175</td>\n",
       "      <td>0.255469</td>\n",
       "      <td>0.066963</td>\n",
       "    </tr>\n",
       "    <tr>\n",
       "      <th>111</th>\n",
       "      <td>Diving_into_DeepSeek:_inside_the_7_February_Gu...</td>\n",
       "      <td>0.262380</td>\n",
       "      <td>0.174946</td>\n",
       "      <td>0.203339</td>\n",
       "      <td>0.210467</td>\n",
       "      <td>0.148868</td>\n",
       "    </tr>\n",
       "    <tr>\n",
       "      <th>112</th>\n",
       "      <td>Hong_Kong_stocks_gain_on_valuation_focus_as_De...</td>\n",
       "      <td>0.554782</td>\n",
       "      <td>0.066948</td>\n",
       "      <td>0.115344</td>\n",
       "      <td>0.111360</td>\n",
       "      <td>0.151565</td>\n",
       "    </tr>\n",
       "    <tr>\n",
       "      <th>113</th>\n",
       "      <td>Nvidia_and_Microsoft_shares_steady_after_DeepS...</td>\n",
       "      <td>0.383854</td>\n",
       "      <td>0.205708</td>\n",
       "      <td>0.146157</td>\n",
       "      <td>0.137854</td>\n",
       "      <td>0.126427</td>\n",
       "    </tr>\n",
       "    <tr>\n",
       "      <th>114</th>\n",
       "      <td>Be_careful_with_DeepSeek,_Australia_says_-_so_...</td>\n",
       "      <td>0.121132</td>\n",
       "      <td>0.188298</td>\n",
       "      <td>0.117236</td>\n",
       "      <td>0.441148</td>\n",
       "      <td>0.132187</td>\n",
       "    </tr>\n",
       "  </tbody>\n",
       "</table>\n",
       "<p>115 rows × 6 columns</p>\n",
       "</div>"
      ],
      "text/plain": [
       "                                              document  \\\n",
       "0    What_is_DeepSeek,_the_Chinese_AI_startup_that_...   \n",
       "1    Chinese_AI_disrupter_DeepSeek_claims_top_spot_...   \n",
       "2        Which_countries_have_banned_DeepSeek_and_why?   \n",
       "3                Global_AI_rivalry_is_a_dangerous_game   \n",
       "4    DeepSeek_just_blew_up_the_AI_industry’s_narrat...   \n",
       "..                                                 ...   \n",
       "110  US_tech_stocks_partly_recover_after_Trump_says...   \n",
       "111  Diving_into_DeepSeek:_inside_the_7_February_Gu...   \n",
       "112  Hong_Kong_stocks_gain_on_valuation_focus_as_De...   \n",
       "113  Nvidia_and_Microsoft_shares_steady_after_DeepS...   \n",
       "114  Be_careful_with_DeepSeek,_Australia_says_-_so_...   \n",
       "\n",
       "     Topic 0 model tech company nvidia  \\\n",
       "0                             0.405605   \n",
       "1                             0.296705   \n",
       "2                             0.134757   \n",
       "3                             0.151226   \n",
       "4                             0.387421   \n",
       "..                                 ...   \n",
       "110                           0.308317   \n",
       "111                           0.262380   \n",
       "112                           0.554782   \n",
       "113                           0.383854   \n",
       "114                           0.121132   \n",
       "\n",
       "     Topic 1 deepseek said technology models  \\\n",
       "0                                   0.304326   \n",
       "1                                   0.134942   \n",
       "2                                   0.100059   \n",
       "3                                   0.216509   \n",
       "4                                   0.316246   \n",
       "..                                       ...   \n",
       "110                                 0.272076   \n",
       "111                                 0.174946   \n",
       "112                                 0.066948   \n",
       "113                                 0.205708   \n",
       "114                                 0.188298   \n",
       "\n",
       "     Topic 2 china deepseek chinese one  Topic 3 deepseek said app government  \\\n",
       "0                              0.074260                              0.054319   \n",
       "1                              0.160103                              0.123986   \n",
       "2                              0.100058                              0.516120   \n",
       "3                              0.186331                              0.165336   \n",
       "4                              0.158524                              0.033529   \n",
       "..                                  ...                                   ...   \n",
       "110                            0.097175                              0.255469   \n",
       "111                            0.203339                              0.210467   \n",
       "112                            0.115344                              0.111360   \n",
       "113                            0.146157                              0.137854   \n",
       "114                            0.117236                              0.441148   \n",
       "\n",
       "     Topic 4 deepseek chinese also intelligence  \n",
       "0                                      0.161489  \n",
       "1                                      0.284264  \n",
       "2                                      0.149005  \n",
       "3                                      0.280599  \n",
       "4                                      0.104281  \n",
       "..                                          ...  \n",
       "110                                    0.066963  \n",
       "111                                    0.148868  \n",
       "112                                    0.151565  \n",
       "113                                    0.126427  \n",
       "114                                    0.132187  \n",
       "\n",
       "[115 rows x 6 columns]"
      ]
     },
     "execution_count": 52,
     "metadata": {},
     "output_type": "execute_result"
    }
   ],
   "source": [
    "# Output CSV File\n",
    "import pandas as pd\n",
    "\n",
    "topic_results = []\n",
    "for title, topic_distribution in zip(titles, topic_distributions):\n",
    "    topic_results.append({'document': title, 'topic_distribution': topic_distribution})\n",
    "\n",
    "df = pd.DataFrame(topic_results)\n",
    "column_names = [f\"Topic {number} {' '.join(topic[:4])}\" for number, topic in enumerate(topic_individual_words)]\n",
    "df[column_names] = pd.DataFrame(df['topic_distribution'].tolist(), index = df.index)\n",
    "df = df.drop('topic_distribution', axis='columns')\n",
    "\n",
    "df"
   ]
  },
  {
   "cell_type": "code",
   "execution_count": 36,
   "id": "fb3cd0a4-8459-4261-9308-86107fa6f005",
   "metadata": {},
   "outputs": [],
   "source": [
    "# Save to CSV\n",
    "df.to_csv(\"../output/topic_results.csv\", index=False, encoding=\"utf-8\")\n"
   ]
  },
  {
   "cell_type": "markdown",
   "id": "630186f8-f8a3-492f-a599-236c516f594d",
   "metadata": {},
   "source": [
    "Choose a topic from the results above and write down its corresponding topic number below.\n",
    "\n",
    "Topic: Topic 0 tech companies one world\n"
   ]
  },
  {
   "cell_type": "code",
   "execution_count": 56,
   "id": "0f88d4f0-7735-4bc5-890c-0a11cbbb2562",
   "metadata": {},
   "outputs": [
    {
     "data": {
      "text/html": [
       "<div>\n",
       "<style scoped>\n",
       "    .dataframe tbody tr th:only-of-type {\n",
       "        vertical-align: middle;\n",
       "    }\n",
       "\n",
       "    .dataframe tbody tr th {\n",
       "        vertical-align: top;\n",
       "    }\n",
       "\n",
       "    .dataframe thead th {\n",
       "        text-align: right;\n",
       "    }\n",
       "</style>\n",
       "<table border=\"1\" class=\"dataframe\">\n",
       "  <thead>\n",
       "    <tr style=\"text-align: right;\">\n",
       "      <th></th>\n",
       "      <th>document</th>\n",
       "      <th>Topic 0 model tech company nvidia</th>\n",
       "      <th>Topic 1 deepseek said technology models</th>\n",
       "      <th>Topic 2 china deepseek chinese one</th>\n",
       "      <th>Topic 3 deepseek said app government</th>\n",
       "      <th>Topic 4 deepseek chinese also intelligence</th>\n",
       "    </tr>\n",
       "  </thead>\n",
       "  <tbody>\n",
       "    <tr>\n",
       "      <th>109</th>\n",
       "      <td>US_tech_stocks_plunge_on_China_AI’s_unexpected...</td>\n",
       "      <td>0.587855</td>\n",
       "      <td>0.167737</td>\n",
       "      <td>0.107359</td>\n",
       "      <td>0.075096</td>\n",
       "      <td>0.061953</td>\n",
       "    </tr>\n",
       "    <tr>\n",
       "      <th>112</th>\n",
       "      <td>Hong_Kong_stocks_gain_on_valuation_focus_as_De...</td>\n",
       "      <td>0.554782</td>\n",
       "      <td>0.066948</td>\n",
       "      <td>0.115344</td>\n",
       "      <td>0.111360</td>\n",
       "      <td>0.151565</td>\n",
       "    </tr>\n",
       "    <tr>\n",
       "      <th>21</th>\n",
       "      <td>A_shocking_Chinese_AI_advancement_called_DeepS...</td>\n",
       "      <td>0.486933</td>\n",
       "      <td>0.231540</td>\n",
       "      <td>0.111127</td>\n",
       "      <td>0.044665</td>\n",
       "      <td>0.125735</td>\n",
       "    </tr>\n",
       "    <tr>\n",
       "      <th>102</th>\n",
       "      <td>China’s_DeepSeek_causes_rout_among_AI-linked_s...</td>\n",
       "      <td>0.486000</td>\n",
       "      <td>0.227185</td>\n",
       "      <td>0.114089</td>\n",
       "      <td>0.037049</td>\n",
       "      <td>0.135677</td>\n",
       "    </tr>\n",
       "    <tr>\n",
       "      <th>45</th>\n",
       "      <td>DeepSeek_breakthrough,_Nvidia_stock_rout_raise...</td>\n",
       "      <td>0.482085</td>\n",
       "      <td>0.207889</td>\n",
       "      <td>0.083527</td>\n",
       "      <td>0.095742</td>\n",
       "      <td>0.130757</td>\n",
       "    </tr>\n",
       "    <tr>\n",
       "      <th>82</th>\n",
       "      <td>My_Take_|_Chinese_start-up_DeepSeek_looks_set_...</td>\n",
       "      <td>0.474924</td>\n",
       "      <td>0.106533</td>\n",
       "      <td>0.122158</td>\n",
       "      <td>0.066202</td>\n",
       "      <td>0.230183</td>\n",
       "    </tr>\n",
       "  </tbody>\n",
       "</table>\n",
       "</div>"
      ],
      "text/plain": [
       "                                              document  \\\n",
       "109  US_tech_stocks_plunge_on_China_AI’s_unexpected...   \n",
       "112  Hong_Kong_stocks_gain_on_valuation_focus_as_De...   \n",
       "21   A_shocking_Chinese_AI_advancement_called_DeepS...   \n",
       "102  China’s_DeepSeek_causes_rout_among_AI-linked_s...   \n",
       "45   DeepSeek_breakthrough,_Nvidia_stock_rout_raise...   \n",
       "82   My_Take_|_Chinese_start-up_DeepSeek_looks_set_...   \n",
       "\n",
       "     Topic 0 model tech company nvidia  \\\n",
       "109                           0.587855   \n",
       "112                           0.554782   \n",
       "21                            0.486933   \n",
       "102                           0.486000   \n",
       "45                            0.482085   \n",
       "82                            0.474924   \n",
       "\n",
       "     Topic 1 deepseek said technology models  \\\n",
       "109                                 0.167737   \n",
       "112                                 0.066948   \n",
       "21                                  0.231540   \n",
       "102                                 0.227185   \n",
       "45                                  0.207889   \n",
       "82                                  0.106533   \n",
       "\n",
       "     Topic 2 china deepseek chinese one  Topic 3 deepseek said app government  \\\n",
       "109                            0.107359                              0.075096   \n",
       "112                            0.115344                              0.111360   \n",
       "21                             0.111127                              0.044665   \n",
       "102                            0.114089                              0.037049   \n",
       "45                             0.083527                              0.095742   \n",
       "82                             0.122158                              0.066202   \n",
       "\n",
       "     Topic 4 deepseek chinese also intelligence  \n",
       "109                                    0.061953  \n",
       "112                                    0.151565  \n",
       "21                                     0.125735  \n",
       "102                                    0.135677  \n",
       "45                                     0.130757  \n",
       "82                                     0.230183  "
      ]
     },
     "execution_count": 56,
     "metadata": {},
     "output_type": "execute_result"
    }
   ],
   "source": [
    "df.sort_values(by='Topic 0 model tech company nvidia', ascending=False)[:6]"
   ]
  },
  {
   "cell_type": "markdown",
   "id": "b18596b5-da9a-49d5-b8d9-63c294348777",
   "metadata": {},
   "source": [
    "Explore Heatmap of Topics and Texts\n",
    "We can visualize and compare these topic probability distributions with a heatmap by using the little_mallet_wrapper.plot_categories_by_topics_heatmap() function.\n",
    "\n",
    "We need a list of target_labels, the sample of texts that we’d like to visualize and compare with the heatmap. Below we make our list of desired target labels."
   ]
  },
  {
   "cell_type": "code",
   "execution_count": 69,
   "id": "d12f10b9-2c70-42f8-95e9-cce5dff60855",
   "metadata": {},
   "outputs": [],
   "source": [
    "target_labels = [\"US_tech_stocks_plunge_on_China_AI’s_unexpectedly_s\",\n",
    "                 \"Hong_Kong_stocks_gain_on_valuation_focus_as_DeepSe\",\n",
    "                 \"A_shocking_Chinese_AI_advancement_called_DeepSeek_\",\n",
    "                 \"China’s_DeepSeek_causes_rout_among_AI-linked_stock\",\n",
    "                 \"DeepSeek_breakthrough,_Nvidia_stock_rout_raise_con\",\n",
    "                 \"My_Take_|_Chinese_start-up_DeepSeek_looks_set_to_r\"\n",
    "]"
   ]
  },
  {
   "cell_type": "code",
   "execution_count": 71,
   "id": "94fafaf8-3d1a-4aaa-83ec-90b7b49159c4",
   "metadata": {},
   "outputs": [
    {
     "data": {
      "image/png": "[encoded data removed]",
      "text/plain": [
       "<Figure size 1300x900 with 2 Axes>"
      ]
     },
     "metadata": {},
     "output_type": "display_data"
    }
   ],
   "source": [
    "little_mallet_wrapper.plot_categories_by_topics_heatmap(titles,\n",
    "                                      topic_distributions,\n",
    "                                      topics,                                   \n",
    "                                      target_labels=target_labels,\n",
    "                                      dim= (13, 9)\n",
    "                                     )"
   ]
  },
  {
   "cell_type": "code",
   "execution_count": null,
   "id": "4b0b89d4-a4c9-4eb3-9f5a-3d62be744843",
   "metadata": {},
   "outputs": [],
   "source": []
  }
 ],
 "metadata": {
  "kernelspec": {
   "display_name": "Python (numpy_env)",
   "language": "python",
   "name": "numpy_env"
  },
  "language_info": {
   "codemirror_mode": {
    "name": "ipython",
    "version": 3
   },
   "file_extension": ".py",
   "mimetype": "text/x-python",
   "name": "python",
   "nbconvert_exporter": "python",
   "pygments_lexer": "ipython3",
   "version": "3.9.21"
  }
 },
 "nbformat": 4,
 "nbformat_minor": 5
}
